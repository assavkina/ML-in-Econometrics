{
  "nbformat": 4,
  "nbformat_minor": 0,
  "metadata": {
    "kernelspec": {
      "display_name": "Python 3",
      "language": "python",
      "name": "python3"
    },
    "language_info": {
      "codemirror_mode": {
        "name": "ipython",
        "version": 3
      },
      "file_extension": ".py",
      "mimetype": "text/x-python",
      "name": "python",
      "nbconvert_exporter": "python",
      "pygments_lexer": "ipython3",
      "version": "3.8.5"
    },
    "colab": {
      "name": "Assigment.ipynb",
      "provenance": [],
      "collapsed_sections": []
    }
  },
  "cells": [
    {
      "cell_type": "code",
      "metadata": {
        "id": "uVOolIkNFRQ2"
      },
      "source": [
        "import pandas as pd\n",
        "import numpy as np\n",
        "import matplotlib.pyplot as plt\n",
        "# !pip install python-Levenshtein\n",
        "import Levenshtein\n",
        "\n",
        "from sklearn.model_selection import train_test_split\n",
        "from sklearn.cluster import AffinityPropagation, DBSCAN\n",
        "\n",
        "import warnings\n",
        "warnings.filterwarnings('ignore')"
      ],
      "execution_count": null,
      "outputs": []
    },
    {
      "cell_type": "code",
      "metadata": {
        "colab": {
          "base_uri": "https://localhost:8080/"
        },
        "id": "3_T-rX4iFRRP",
        "outputId": "5bdc7c54-b382-4aa7-af5b-f2dea39247d0"
      },
      "source": [
        "data = pd.read_csv('data.csv')\n",
        "data.shape"
      ],
      "execution_count": null,
      "outputs": [
        {
          "output_type": "execute_result",
          "data": {
            "text/plain": [
              "(104411, 5)"
            ]
          },
          "metadata": {
            "tags": []
          },
          "execution_count": 5
        }
      ]
    },
    {
      "cell_type": "code",
      "metadata": {
        "id": "qXxtYTCvFRRP"
      },
      "source": [
        "data.issue_date = pd.to_datetime(data.issue_date, utc=False)"
      ],
      "execution_count": null,
      "outputs": []
    },
    {
      "cell_type": "code",
      "metadata": {
        "id": "m_dxeq7QFRRQ"
      },
      "source": [
        "data.issuer_eng = data.issuer_eng.str.upper()"
      ],
      "execution_count": null,
      "outputs": []
    },
    {
      "cell_type": "code",
      "metadata": {
        "colab": {
          "base_uri": "https://localhost:8080/"
        },
        "id": "MynVIgPsFRRR",
        "outputId": "7bcb853c-759d-44d1-bc74-a62966d8b6bc"
      },
      "source": [
        "data.dept_code.astype('str').map(len).value_counts(normalize=True)"
      ],
      "execution_count": null,
      "outputs": [
        {
          "output_type": "execute_result",
          "data": {
            "text/plain": [
              "6    0.926741\n",
              "5    0.073259\n",
              "Name: dept_code, dtype: float64"
            ]
          },
          "metadata": {
            "tags": []
          },
          "execution_count": 8
        }
      ]
    },
    {
      "cell_type": "code",
      "metadata": {
        "colab": {
          "base_uri": "https://localhost:8080/",
          "height": 449
        },
        "id": "Rwayl1ehFRRS",
        "outputId": "77babb73-211d-48b8-8618-caf05160ae9c"
      },
      "source": [
        "plt.hist(data['issuer_eng'].map(len))\n",
        "plt.grid()\n",
        "plt.title('Гистрограмма распределения \\nколичества символов в issuer_eng')\n",
        "data['issuer_eng'].map(len).describe()"
      ],
      "execution_count": null,
      "outputs": [
        {
          "output_type": "execute_result",
          "data": {
            "text/plain": [
              "count    104411.000000\n",
              "mean         65.164082\n",
              "std          14.729673\n",
              "min           3.000000\n",
              "25%          58.000000\n",
              "50%          67.000000\n",
              "75%          76.000000\n",
              "max         133.000000\n",
              "Name: issuer_eng, dtype: float64"
            ]
          },
          "metadata": {
            "tags": []
          },
          "execution_count": 14
        },
        {
          "output_type": "display_data",
          "data": {
            "image/png": "[encoded data removed]",
            "text/plain": [
              "<Figure size 432x288 with 1 Axes>"
            ]
          },
          "metadata": {
            "tags": [],
            "needs_background": "light"
          }
        }
      ]
    },
    {
      "cell_type": "code",
      "metadata": {
        "id": "k1apYZQ5FRRT"
      },
      "source": [
        "symbols_dept_code = 6\n",
        "symbols_issue_date = 8\n",
        "symbols_issuer_avg = int(data['issuer_eng'].map(len).mean()) + 1\n",
        "symbols_all = symbols_dept_code + symbols_issue_date + symbols_issuer_avg\n",
        "temp =  symbols_all * 2\n",
        "reduce_time = np.round(100000 * symbols_issuer_avg / temp, 2)\n",
        "reduce_money = np.round(reduce_time * 0.05, 2)"
      ],
      "execution_count": null,
      "outputs": []
    },
    {
      "cell_type": "code",
      "metadata": {
        "colab": {
          "base_uri": "https://localhost:8080/"
        },
        "id": "-bSiChXDFRRT",
        "outputId": "581e558b-2e04-4eb0-badc-28f918fb7557"
      },
      "source": [
        "print('введение данных одного пользователя 30 секунд - в среднем ', symbols_all,\n",
        "      'символов \\nСредняя скорость набора символов:', temp, 'символов в минуту\\n',\n",
        "      'Зарплата оператора 0.05 евро в минуту')\n",
        "print('\\nОценка оптимизации: \\nавтоподбор слова только по dept_code и issue_date \\nкаждый год новые 100 тыс пользователей, без оптимизации оператор тратит',\n",
        "     50000, 'минут в год на ввод данных новых клиентов. \\nСтоимость данной работы ', 50000 * 0.05,\n",
        "      'в год. \\nЕсли учесть, что в среднем на заполнение issuer требуется', symbols_issuer_avg, 'символов',\n",
        "      '\\nАвтозаполнение может уменьшить время ввода данных на ', reduce_time, 'минут',\n",
        "      '\\nВ денежном эквиваленте произойдет оптимизация в среднем на', reduce_money, 'евро в год')"
      ],
      "execution_count": null,
      "outputs": [
        {
          "output_type": "stream",
          "text": [
            "введение данных одного пользователя 30 секунд - в среднем  80 символов \n",
            "Средняя скорость набора символов: 160 символов в минуту\n",
            " Зарплата оператора 0.05 евро в минуту\n",
            "\n",
            "Оценка оптимизации: \n",
            "автоподбор слова только по dept_code и issue_date \n",
            "каждый год новые 100 тыс пользователей, без оптимизации оператор тратит 50000 минут в год на ввод данных новых клиентов. \n",
            "Стоимость данной работы  2500.0 в год. \n",
            "Если учесть, что в среднем на заполнение issuer требуется 66 символов \n",
            "Автозаполнение может уменьшить время ввода данных на  41250.0 минут \n",
            "В денежном эквиваленте произойдет оптимизация в среднем на 2062.5 евро в год\n"
          ],
          "name": "stdout"
        }
      ]
    },
    {
      "cell_type": "markdown",
      "metadata": {
        "id": "8zBqi3nrgyT4"
      },
      "source": [
        "# Пункт 2"
      ]
    },
    {
      "cell_type": "code",
      "metadata": {
        "id": "9BSxOposFRRU"
      },
      "source": [
        "train_size = int(len(data) * 0.7) + 1"
      ],
      "execution_count": null,
      "outputs": []
    },
    {
      "cell_type": "code",
      "metadata": {
        "id": "bSr1EF_CLTYj"
      },
      "source": [
        "needed_data = data.copy().drop(['issuer', 'values'], axis=1)"
      ],
      "execution_count": null,
      "outputs": []
    },
    {
      "cell_type": "code",
      "metadata": {
        "colab": {
          "base_uri": "https://localhost:8080/",
          "height": 204
        },
        "id": "7wdt9gRpFRRU",
        "outputId": "f94451b8-c54f-4f73-e25e-713980d27c20"
      },
      "source": [
        "train, test = train_test_split(needed_data, train_size = train_size, shuffle = True)\n",
        "train.head()"
      ],
      "execution_count": null,
      "outputs": [
        {
          "output_type": "execute_result",
          "data": {
            "text/html": [
              "<div>\n",
              "<style scoped>\n",
              "    .dataframe tbody tr th:only-of-type {\n",
              "        vertical-align: middle;\n",
              "    }\n",
              "\n",
              "    .dataframe tbody tr th {\n",
              "        vertical-align: top;\n",
              "    }\n",
              "\n",
              "    .dataframe thead th {\n",
              "        text-align: right;\n",
              "    }\n",
              "</style>\n",
              "<table border=\"1\" class=\"dataframe\">\n",
              "  <thead>\n",
              "    <tr style=\"text-align: right;\">\n",
              "      <th></th>\n",
              "      <th>dept_code</th>\n",
              "      <th>issue_date</th>\n",
              "      <th>issuer_eng</th>\n",
              "    </tr>\n",
              "  </thead>\n",
              "  <tbody>\n",
              "    <tr>\n",
              "      <th>46180</th>\n",
              "      <td>360004</td>\n",
              "      <td>2009-01-18</td>\n",
              "      <td>OTDELOM UFMS ROSSII PO VORONEZHSKOJ OBLASTI V ...</td>\n",
              "    </tr>\n",
              "    <tr>\n",
              "      <th>56926</th>\n",
              "      <td>380010</td>\n",
              "      <td>2015-07-07</td>\n",
              "      <td>OTDELOM UFMS ROSSII PO IRKUTSKOJ OBLASTI V GOR...</td>\n",
              "    </tr>\n",
              "    <tr>\n",
              "      <th>100288</th>\n",
              "      <td>860003</td>\n",
              "      <td>2016-01-07</td>\n",
              "      <td>OTDELOM UFMS ROSSII PO HANTY-MANSIJSKOMU AVTON...</td>\n",
              "    </tr>\n",
              "    <tr>\n",
              "      <th>93675</th>\n",
              "      <td>660009</td>\n",
              "      <td>2016-08-09</td>\n",
              "      <td>OUFMS ROSSII PO SVERDLOVSKOJ OBL. V CHKALOVSKO...</td>\n",
              "    </tr>\n",
              "    <tr>\n",
              "      <th>86702</th>\n",
              "      <td>640004</td>\n",
              "      <td>2015-05-15</td>\n",
              "      <td>OTDELOM UFMS ROSSII PO SARATOVSKOJ OBLASTI V L...</td>\n",
              "    </tr>\n",
              "  </tbody>\n",
              "</table>\n",
              "</div>"
            ],
            "text/plain": [
              "        dept_code issue_date                                         issuer_eng\n",
              "46180      360004 2009-01-18  OTDELOM UFMS ROSSII PO VORONEZHSKOJ OBLASTI V ...\n",
              "56926      380010 2015-07-07  OTDELOM UFMS ROSSII PO IRKUTSKOJ OBLASTI V GOR...\n",
              "100288     860003 2016-01-07  OTDELOM UFMS ROSSII PO HANTY-MANSIJSKOMU AVTON...\n",
              "93675      660009 2016-08-09  OUFMS ROSSII PO SVERDLOVSKOJ OBL. V CHKALOVSKO...\n",
              "86702      640004 2015-05-15  OTDELOM UFMS ROSSII PO SARATOVSKOJ OBLASTI V L..."
            ]
          },
          "metadata": {
            "tags": []
          },
          "execution_count": 29
        }
      ]
    },
    {
      "cell_type": "code",
      "metadata": {
        "id": "Rd6b0-U5FRRV"
      },
      "source": [
        "def filter_by_depth(base, dept, date):\n",
        "    lay_1 = base[base.dept_code == dept].copy()\n",
        "    closest_date_idx =  closest_time(lay_1.issue_date, date)\n",
        "    return lay_1.issuer_eng[closest_date_idx]\n",
        "\n",
        "def closest_time(date_row, date):\n",
        "    df_time = pd.DataFrame({'date' : date_row, 'differ' : abs(data.issue_date - pd.to_datetime(date, utc=False))},\n",
        "                          index= date_row.index)    \n",
        "    return df_time.differ.idxmin()"
      ],
      "execution_count": null,
      "outputs": []
    },
    {
      "cell_type": "code",
      "metadata": {
        "id": "2pZ1ACR3FRSe",
        "colab": {
          "base_uri": "https://localhost:8080/",
          "height": 310
        },
        "outputId": "2a84f494-e8df-465a-96c9-b3c71b981e90"
      },
      "source": [
        "# result_1 = pd.Series(list(test[['dept_code', 'issue_date']].values)).apply(lambda x: filter_by_depth(train, x[0], x[1]))\n",
        "\n",
        "check_1 = pd.Series(list(pd.DataFrame({'result_0' : result_1, 'target': test.issuer_eng.to_list()}).values))\n",
        "distance_1 = check_1.apply(lambda x: Levenshtein.distance(x[0], x[1]))\n",
        "\n",
        "def plot_Levenstein(distance, ylim=0.6):\n",
        "  x = np.linspace(0, 20, 21)\n",
        "  y = [np.round((distance <= i).sum() / len(distance), 2) for i in x]\n",
        "  plt.plot(x, y)\n",
        "  plt.ylim(ylim)\n",
        "  plt.xlim(0)\n",
        "  plt.grid()\n",
        "  plt.xlabel('Расстояние Левенштейна')\n",
        "  plt.ylabel('Часть предсказанных значений')\n",
        "  plt.title(' Оценка различий между \\n предсказанными и оригинальными значение issuer_eng')\n",
        "  plt.show()\n",
        "\n",
        "plot_Levenstein(distance_1)"
      ],
      "execution_count": null,
      "outputs": [
        {
          "output_type": "display_data",
          "data": {
            "image/png": "[encoded data removed]",
            "text/plain": [
              "<Figure size 432x288 with 1 Axes>"
            ]
          },
          "metadata": {
            "tags": [],
            "needs_background": "light"
          }
        }
      ]
    },
    {
      "cell_type": "markdown",
      "metadata": {
        "id": "3lighfSzFRSe"
      },
      "source": [
        "# Пункт 3"
      ]
    },
    {
      "cell_type": "code",
      "metadata": {
        "id": "KzUHo7XmR1xj"
      },
      "source": [
        "dept_code = train.dept_code.unique()\r\n",
        "train['examplar'] = train.loc[:, 'issuer_eng']"
      ],
      "execution_count": null,
      "outputs": []
    },
    {
      "cell_type": "code",
      "metadata": {
        "colab": {
          "base_uri": "https://localhost:8080/"
        },
        "id": "mo0GlGfQW0Jv",
        "outputId": "25e18136-49a1-4955-db61-bbb3f2c731bb"
      },
      "source": [
        "exeption_dept_code = []\r\n",
        "for dept in dept_code:\r\n",
        "  needed_idx = train[train.dept_code == dept].index #индексы тех строчек, где dept_code = dept\r\n",
        "  current_train = train.loc[needed_idx, :].copy() #рассматриваем ту часть train dateframe, где dept_code = dept\r\n",
        "  unique_issuer = current_train.issuer_eng.unique() # уникальные значения issuer_eng, которые соотвествуют данному dept\r\n",
        "  IsEng_to_index_in_uniqueIsEng = { issuer: index for index, issuer in enumerate(unique_issuer)} # словарь, в котором каждому уникальному issuer_eng соответствует его индекс в листе уникальных значений\r\n",
        "  current_examplar = current_train.loc[:, 'examplar'].copy()#рассматриваем ту часть examplar в train dateframe, \r\n",
        "  #где dept_code = dept, сейчас в этом столбце просто повторяются значения issuer_eng\r\n",
        "  unique_issuer = current_train.issuer_eng.unique() # уникальные значения issuer_eng, которые соотвествуют данному dept\r\n",
        "  current_examplar = current_examplar.map(IsEng_to_index_in_uniqueIsEng) # вместо значений issuer_eng мы пишем его индекс в списке уникальных значений unique_issuer  \r\n",
        "\r\n",
        "  # симметричная матрица расстояний Левенштейна между уникальными issuer_eng\r\n",
        "  lev_matrix = pd.DataFrame(index=unique_issuer, columns=unique_issuer) \r\n",
        "  k = 0\r\n",
        "  for i in unique_issuer:\r\n",
        "      for j in unique_issuer[k: ]:\r\n",
        "          lev_matrix.loc[i, j] = Levenshtein.distance(i, j)\r\n",
        "          lev_matrix.loc[j, i] = lev_matrix.loc[i, j]\r\n",
        "  model = AffinityPropagation().fit(lev_matrix) # кластерезуем уникальные значения issuer_eng, методу AffinityPropagation\r\n",
        "  # на обучение подается матрица расстояний\r\n",
        "\r\n",
        "  # Алгоритм делит уникальные значения на несколько классов, которые нумеруют от 0 до n. \r\n",
        "  #Теперь мы должны сопоставим каждому элементу кластер и в examlar написать уникальное слова,\r\n",
        "  # которое является центром его класса\r\n",
        "  issuier_eng_centeres = { i: unique_issuer[i] for i in model.cluster_centers_indices_} # Каждому классу [0,..,n] сопоставляет\r\n",
        "  #уникального значение из unique_issuer, которое стало центром данного класса\r\n",
        "  center_indexes = {i: center_index for i, center_index in enumerate(model.cluster_centers_indices_)}  # Каждому классу [0,..,n] сопоставляет\r\n",
        "  # индекс уникального значение из unique_issuer, которое стало центром данного класса\r\n",
        "  clusrering_index = pd.Series(model.labels_).map(center_indexes) # всем уникальным значениям issuer_eng сопоставляет\r\n",
        "  # индекс issuer_eng в листе unique_issuer, который является центром их классов \r\n",
        "  \r\n",
        "  current_examplar = current_examplar.map({i: center_idx for i, center_idx in enumerate(clusrering_index)}) # Вместо индекса значения issuer_eng \r\n",
        "  # в листе unique_issuer в exampar ставится индекс центра класса, к которому отнесено данное issuer_eng\r\n",
        "  current_examplar = current_examplar.map(issuier_eng_centeres)  # Вместо индекса центра, к которому отнесенно данное issuer eng,\r\n",
        "  #ставится issuer_eng центра  \r\n",
        "\r\n",
        "  if current_examplar.isnull().sum() != 0 : # Фиксация тех dept_code, для которых не получилось кластеризовать unique issuer_eng\r\n",
        "    exeption_dept_code.append(dept)         # Если кластеризация прошла успешно, то в столбец examplar записывает issuer_eng центра, соответсвуещего класса\r\n",
        "  else:\r\n",
        "    train.examplar[needed_idx] = current_examplar\r\n",
        "print(exeption_dept_code)\r\n"
      ],
      "execution_count": null,
      "outputs": [
        {
          "output_type": "stream",
          "text": [
            "[632033, 340011, 282002, 280002, 410001]\n"
          ],
          "name": "stdout"
        }
      ]
    },
    {
      "cell_type": "code",
      "metadata": {
        "id": "4NcpaKe3QHxK"
      },
      "source": [
        "# train_new = train.query('dept_code != 632033 & dept_code != 340011 & dept_code != 282002 & dept_code != 280002 & dept_code != 410001')\r\n",
        "# test_new = test.query('dept_code != 632033 & dept_code != 340011 & dept_code != 282002 & dept_code != 280002 & dept_code != 410001')"
      ],
      "execution_count": null,
      "outputs": []
    },
    {
      "cell_type": "code",
      "metadata": {
        "id": "qLMDKlYAv5rN"
      },
      "source": [
        "def filter_by_depth_new(base, dept, date):\r\n",
        "    lay_1 = base[base.dept_code == dept].copy()\r\n",
        "    closest_date_idx =  closest_time(lay_1.issue_date, date)\r\n",
        "    return lay_1.examplar[closest_date_idx]\r\n",
        "\r\n",
        "result_2 = pd.Series(list(test[['dept_code', 'issue_date']].values)).apply(lambda x: filter_by_depth_new(train, x[0], x[1]))\r\n"
      ],
      "execution_count": null,
      "outputs": []
    },
    {
      "cell_type": "code",
      "metadata": {
        "colab": {
          "base_uri": "https://localhost:8080/",
          "height": 310
        },
        "id": "v1hPxae5Wq90",
        "outputId": "1196db9c-414d-4f15-b2ca-f4a361a03b6d"
      },
      "source": [
        "check_2 = pd.Series(list(pd.DataFrame({'result_2' : result_2, 'target': test.issuer_eng.to_list()}).values))\r\n",
        "distance_2 = check_2.apply(lambda x: Levenshtein.distance(x[0], x[1]))\r\n",
        "plot_Levenstein(distance_2, 0)\r\n",
        "\r\n",
        "# x = np.linspace(0, 20, 21)\r\n",
        "# y = [np.round((distance_2 <= i).sum() / len(distance_2), 2) for i in x]\r\n",
        "# plt.plot(x, y)\r\n",
        "# plt.ylim(0)\r\n",
        "# plt.xlim(0)\r\n",
        "# plt.grid()"
      ],
      "execution_count": null,
      "outputs": [
        {
          "output_type": "display_data",
          "data": {
            "image/png": "[encoded data removed]",
            "text/plain": [
              "<Figure size 432x288 with 1 Axes>"
            ]
          },
          "metadata": {
            "tags": [],
            "needs_background": "light"
          }
        }
      ]
    }
  ]
}